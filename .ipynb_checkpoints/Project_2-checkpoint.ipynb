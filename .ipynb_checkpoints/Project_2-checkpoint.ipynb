{
 "cells": [
  {
   "cell_type": "markdown",
   "metadata": {},
   "source": [
    "## CSS Project 2 - Team 3 ##\n",
    "\n",
    "### Mahader Tamene, Anthony Palafox, & Jessie Harney ###"
   ]
  },
  {
   "cell_type": "markdown",
   "metadata": {},
   "source": [
    "10.15.20 - Mahader version"
   ]
  },
  {
   "cell_type": "markdown",
   "metadata": {},
   "source": [
    "#### 1) Introduction ####"
   ]
  },
  {
   "cell_type": "markdown",
   "metadata": {},
   "source": [
    "Let's import the libraries from Python. "
   ]
  },
  {
   "cell_type": "code",
   "execution_count": 1,
   "metadata": {},
   "outputs": [],
   "source": [
    "import numpy as np\n",
    "import datetime as dt\n",
    "import pandas as pd\n",
    "import matplotlib.pyplot as plt\n",
    "import seaborn as sns\n",
    "#%matplotlib inline\n",
    "from sklearn.model_selection import train_test_split\n",
    "from sklearn.linear_model import Ridge, Lasso, LinearRegression\n",
    "from sklearn.model_selection import KFold\n",
    "from sklearn.model_selection import GridSearchCV\n",
    "from sklearn import preprocessing\n",
    "from bokeh.models import *\n",
    "from bokeh.plotting import *\n",
    "from bokeh.io import *\n",
    "from bokeh.tile_providers import *\n",
    "from bokeh.palettes import *\n",
    "from bokeh.transform import *\n",
    "from bokeh.layouts import *"
   ]
  },
  {
   "cell_type": "markdown",
   "metadata": {},
   "source": [
    "Now, let's import our CDC diabetes dataset and view the first five rows (with all columns)."
   ]
  },
  {
   "cell_type": "code",
   "execution_count": 2,
   "metadata": {},
   "outputs": [
    {
     "data": {
      "text/html": [
       "<div>\n",
       "<style scoped>\n",
       "    .dataframe tbody tr th:only-of-type {\n",
       "        vertical-align: middle;\n",
       "    }\n",
       "\n",
       "    .dataframe tbody tr th {\n",
       "        vertical-align: top;\n",
       "    }\n",
       "\n",
       "    .dataframe thead th {\n",
       "        text-align: right;\n",
       "    }\n",
       "</style>\n",
       "<table border=\"1\" class=\"dataframe\">\n",
       "  <thead>\n",
       "    <tr style=\"text-align: right;\">\n",
       "      <th></th>\n",
       "      <th>County</th>\n",
       "      <th>State</th>\n",
       "      <th>CountyFIPS</th>\n",
       "      <th>Diabetes_Number</th>\n",
       "      <th>Obesity_Number</th>\n",
       "      <th>Physical_Inactivity_Number</th>\n",
       "      <th>sex and age_total population_65 years and over_sex ratio (males per 100 females)</th>\n",
       "      <th>race_total population</th>\n",
       "      <th>race_total population_one race</th>\n",
       "      <th>race_total population_two or more races</th>\n",
       "      <th>...</th>\n",
       "      <th>sex and age_total population_21 years and over</th>\n",
       "      <th>sex and age_total population_62 years and over</th>\n",
       "      <th>sex and age_total population_65 years and over</th>\n",
       "      <th>sex and age_total population_18 years and over_1</th>\n",
       "      <th>sex and age_total population_18 years and over_male</th>\n",
       "      <th>sex and age_total population_18 years and over_female</th>\n",
       "      <th>sex and age_total population_18 years and over_sex ratio (males per 100 females)</th>\n",
       "      <th>sex and age_total population_65 years and over_1</th>\n",
       "      <th>sex and age_total population_65 years and over_male</th>\n",
       "      <th>sex and age_total population_65 years and over_female</th>\n",
       "    </tr>\n",
       "  </thead>\n",
       "  <tbody>\n",
       "    <tr>\n",
       "      <th>0</th>\n",
       "      <td>Autauga County</td>\n",
       "      <td>Alabama</td>\n",
       "      <td>1001</td>\n",
       "      <td>5178</td>\n",
       "      <td>13489</td>\n",
       "      <td>12525</td>\n",
       "      <td>76.5</td>\n",
       "      <td>55200</td>\n",
       "      <td>54170</td>\n",
       "      <td>1030</td>\n",
       "      <td>...</td>\n",
       "      <td>39614</td>\n",
       "      <td>9403</td>\n",
       "      <td>8050</td>\n",
       "      <td>41831</td>\n",
       "      <td>20054</td>\n",
       "      <td>21777</td>\n",
       "      <td>92.1</td>\n",
       "      <td>8050</td>\n",
       "      <td>3488</td>\n",
       "      <td>4562</td>\n",
       "    </tr>\n",
       "    <tr>\n",
       "      <th>1</th>\n",
       "      <td>Baldwin County</td>\n",
       "      <td>Alabama</td>\n",
       "      <td>1003</td>\n",
       "      <td>16707</td>\n",
       "      <td>48542</td>\n",
       "      <td>40024</td>\n",
       "      <td>86.6</td>\n",
       "      <td>208107</td>\n",
       "      <td>204535</td>\n",
       "      <td>3572</td>\n",
       "      <td>...</td>\n",
       "      <td>155502</td>\n",
       "      <td>49811</td>\n",
       "      <td>40665</td>\n",
       "      <td>162430</td>\n",
       "      <td>78104</td>\n",
       "      <td>84326</td>\n",
       "      <td>92.6</td>\n",
       "      <td>40665</td>\n",
       "      <td>18870</td>\n",
       "      <td>21795</td>\n",
       "    </tr>\n",
       "    <tr>\n",
       "      <th>2</th>\n",
       "      <td>Barbour County</td>\n",
       "      <td>Alabama</td>\n",
       "      <td>1005</td>\n",
       "      <td>3400</td>\n",
       "      <td>8009</td>\n",
       "      <td>5431</td>\n",
       "      <td>76.2</td>\n",
       "      <td>25782</td>\n",
       "      <td>25429</td>\n",
       "      <td>353</td>\n",
       "      <td>...</td>\n",
       "      <td>19394</td>\n",
       "      <td>5658</td>\n",
       "      <td>4634</td>\n",
       "      <td>20346</td>\n",
       "      <td>10923</td>\n",
       "      <td>9423</td>\n",
       "      <td>115.9</td>\n",
       "      <td>4634</td>\n",
       "      <td>2004</td>\n",
       "      <td>2630</td>\n",
       "    </tr>\n",
       "    <tr>\n",
       "      <th>3</th>\n",
       "      <td>Bibb County</td>\n",
       "      <td>Alabama</td>\n",
       "      <td>1007</td>\n",
       "      <td>2371</td>\n",
       "      <td>6534</td>\n",
       "      <td>5827</td>\n",
       "      <td>80.5</td>\n",
       "      <td>22527</td>\n",
       "      <td>22340</td>\n",
       "      <td>187</td>\n",
       "      <td>...</td>\n",
       "      <td>16864</td>\n",
       "      <td>4323</td>\n",
       "      <td>3661</td>\n",
       "      <td>17868</td>\n",
       "      <td>9578</td>\n",
       "      <td>8290</td>\n",
       "      <td>115.5</td>\n",
       "      <td>3661</td>\n",
       "      <td>1633</td>\n",
       "      <td>2028</td>\n",
       "    </tr>\n",
       "    <tr>\n",
       "      <th>4</th>\n",
       "      <td>Blount County</td>\n",
       "      <td>Alabama</td>\n",
       "      <td>1009</td>\n",
       "      <td>6282</td>\n",
       "      <td>14227</td>\n",
       "      <td>14365</td>\n",
       "      <td>79.7</td>\n",
       "      <td>57645</td>\n",
       "      <td>56710</td>\n",
       "      <td>935</td>\n",
       "      <td>...</td>\n",
       "      <td>42232</td>\n",
       "      <td>12400</td>\n",
       "      <td>10233</td>\n",
       "      <td>44177</td>\n",
       "      <td>21595</td>\n",
       "      <td>22582</td>\n",
       "      <td>95.6</td>\n",
       "      <td>10233</td>\n",
       "      <td>4540</td>\n",
       "      <td>5693</td>\n",
       "    </tr>\n",
       "  </tbody>\n",
       "</table>\n",
       "<p>5 rows × 95 columns</p>\n",
       "</div>"
      ],
      "text/plain": [
       "           County    State  CountyFIPS Diabetes_Number Obesity_Number  \\\n",
       "0  Autauga County  Alabama        1001            5178          13489   \n",
       "1  Baldwin County  Alabama        1003           16707          48542   \n",
       "2  Barbour County  Alabama        1005            3400           8009   \n",
       "3     Bibb County  Alabama        1007            2371           6534   \n",
       "4   Blount County  Alabama        1009            6282          14227   \n",
       "\n",
       "  Physical_Inactivity_Number  \\\n",
       "0                      12525   \n",
       "1                      40024   \n",
       "2                       5431   \n",
       "3                       5827   \n",
       "4                      14365   \n",
       "\n",
       "  sex and age_total population_65 years and over_sex ratio (males per 100 females)  \\\n",
       "0                                               76.5                                 \n",
       "1                                               86.6                                 \n",
       "2                                               76.2                                 \n",
       "3                                               80.5                                 \n",
       "4                                               79.7                                 \n",
       "\n",
       "   race_total population  race_total population_one race  \\\n",
       "0                  55200                           54170   \n",
       "1                 208107                          204535   \n",
       "2                  25782                           25429   \n",
       "3                  22527                           22340   \n",
       "4                  57645                           56710   \n",
       "\n",
       "   race_total population_two or more races  ...  \\\n",
       "0                                     1030  ...   \n",
       "1                                     3572  ...   \n",
       "2                                      353  ...   \n",
       "3                                      187  ...   \n",
       "4                                      935  ...   \n",
       "\n",
       "   sex and age_total population_21 years and over  \\\n",
       "0                                           39614   \n",
       "1                                          155502   \n",
       "2                                           19394   \n",
       "3                                           16864   \n",
       "4                                           42232   \n",
       "\n",
       "   sex and age_total population_62 years and over  \\\n",
       "0                                            9403   \n",
       "1                                           49811   \n",
       "2                                            5658   \n",
       "3                                            4323   \n",
       "4                                           12400   \n",
       "\n",
       "   sex and age_total population_65 years and over  \\\n",
       "0                                            8050   \n",
       "1                                           40665   \n",
       "2                                            4634   \n",
       "3                                            3661   \n",
       "4                                           10233   \n",
       "\n",
       "   sex and age_total population_18 years and over_1  \\\n",
       "0                                             41831   \n",
       "1                                            162430   \n",
       "2                                             20346   \n",
       "3                                             17868   \n",
       "4                                             44177   \n",
       "\n",
       "   sex and age_total population_18 years and over_male  \\\n",
       "0                                              20054     \n",
       "1                                              78104     \n",
       "2                                              10923     \n",
       "3                                               9578     \n",
       "4                                              21595     \n",
       "\n",
       "   sex and age_total population_18 years and over_female  \\\n",
       "0                                              21777       \n",
       "1                                              84326       \n",
       "2                                               9423       \n",
       "3                                               8290       \n",
       "4                                              22582       \n",
       "\n",
       "   sex and age_total population_18 years and over_sex ratio (males per 100 females)  \\\n",
       "0                                               92.1                                  \n",
       "1                                               92.6                                  \n",
       "2                                              115.9                                  \n",
       "3                                              115.5                                  \n",
       "4                                               95.6                                  \n",
       "\n",
       "   sex and age_total population_65 years and over_1  \\\n",
       "0                                              8050   \n",
       "1                                             40665   \n",
       "2                                              4634   \n",
       "3                                              3661   \n",
       "4                                             10233   \n",
       "\n",
       "   sex and age_total population_65 years and over_male  \\\n",
       "0                                               3488     \n",
       "1                                              18870     \n",
       "2                                               2004     \n",
       "3                                               1633     \n",
       "4                                               4540     \n",
       "\n",
       "   sex and age_total population_65 years and over_female  \n",
       "0                                               4562      \n",
       "1                                              21795      \n",
       "2                                               2630      \n",
       "3                                               2028      \n",
       "4                                               5693      \n",
       "\n",
       "[5 rows x 95 columns]"
      ]
     },
     "execution_count": 2,
     "metadata": {},
     "output_type": "execute_result"
    }
   ],
   "source": [
    "cdc=pd.read_csv(\"https://raw.githubusercontent.com/jharney0520/CSS_Project2_Team3_Fall2020/main/Diabetes2017.csv\")\n",
    "cdc.head(5)"
   ]
  },
  {
   "cell_type": "markdown",
   "metadata": {},
   "source": [
    "#### 2) Exploratory Data Analysis ####"
   ]
  },
  {
   "cell_type": "markdown",
   "metadata": {},
   "source": [
    "Data exploration to uncover interesting findings to guide analysis: "
   ]
  },
  {
   "cell_type": "code",
   "execution_count": 3,
   "metadata": {},
   "outputs": [
    {
     "data": {
      "text/plain": [
       "County                                                                               object\n",
       "State                                                                                object\n",
       "CountyFIPS                                                                            int64\n",
       "Diabetes_Number                                                                     float64\n",
       "Obesity_Number                                                                       object\n",
       "                                                                                     ...   \n",
       "sex and age_total population_18 years and over_female                                 int64\n",
       "sex and age_total population_18 years and over_sex ratio (males per 100 females)    float64\n",
       "sex and age_total population_65 years and over_1                                      int64\n",
       "sex and age_total population_65 years and over_male                                   int64\n",
       "sex and age_total population_65 years and over_female                                 int64\n",
       "Length: 95, dtype: object"
      ]
     },
     "execution_count": 3,
     "metadata": {},
     "output_type": "execute_result"
    }
   ],
   "source": [
    "## Didn't realize there was a space between total and population! Reminder to just copy/paste from the ##\n",
    "## head output above! ##\n",
    "cdc = cdc.replace('No Data', np.nan)\n",
    "\n",
    "## Checking to make sure the \"No Data\" observations where forced to missing.\n",
    "#pr=cdc[cdc['State']==\"Puerto Rico\"]\n",
    "#pr.head(5)\n",
    "\n",
    "cdc[\"Diabetes_Number\"]= pd.to_numeric(cdc[\"Diabetes_Number\"], errors='coerce')\n",
    "\n",
    "cdc.dtypes\n",
    "## Okay, good - looks like it worked! ##"
   ]
  },
  {
   "cell_type": "code",
   "execution_count": 4,
   "metadata": {},
   "outputs": [
    {
     "data": {
      "text/plain": [
       "County                                                                               object\n",
       "State                                                                                object\n",
       "CountyFIPS                                                                            int64\n",
       "Diabetes_Number                                                                     float64\n",
       "Obesity_Number                                                                      float64\n",
       "                                                                                     ...   \n",
       "sex and age_total population_18 years and over_female                                 int64\n",
       "sex and age_total population_18 years and over_sex ratio (males per 100 females)    float64\n",
       "sex and age_total population_65 years and over_1                                      int64\n",
       "sex and age_total population_65 years and over_male                                   int64\n",
       "sex and age_total population_65 years and over_female                                 int64\n",
       "Length: 95, dtype: object"
      ]
     },
     "execution_count": 4,
     "metadata": {},
     "output_type": "execute_result"
    }
   ],
   "source": [
    "## Let's make sure that these data seem to match. ##\n",
    "cdc.head(5)\n",
    "\n",
    "## Yep, now they're just floats instead. Let's do the same thing with other two ##\n",
    "cdc[\"Obesity_Number\"]=pd.to_numeric(cdc[\"Obesity_Number\"], errors='coerce')\n",
    "cdc[\"Physical_Inactivity_Number\"]=pd.to_numeric(cdc[\"Physical_Inactivity_Number\"], errors='coerce')\n",
    "\n",
    "#did with another\n",
    "cdc[\"sex and age_total population_65 years and over_sex ratio (males per 100 females)\"] = pd.to_numeric(cdc[\"sex and age_total population_65 years and over_sex ratio (males per 100 females)\"], errors = 'coerce')\n",
    "\n",
    "cdc.dtypes"
   ]
  },
  {
   "cell_type": "code",
   "execution_count": 5,
   "metadata": {},
   "outputs": [
    {
     "data": {
      "text/plain": [
       "[19.038119606227504, 224.20788253477588]"
      ]
     },
     "execution_count": 5,
     "metadata": {},
     "output_type": "execute_result"
    }
   ],
   "source": [
    "## Okay, let's make diabetes and obesity cases per 1,000. ##\n",
    "cdc['Diabetes_Per1000']=cdc['Diabetes_Number']/(cdc['race_total population']/1000)\n",
    "cdc['Obesity_Per1000']=cdc['Obesity_Number']/(cdc['race_total population']/1000)\n",
    "\n",
    "minmax_diabper1000=[min(cdc['Diabetes_Per1000']), max(cdc['Diabetes_Per1000'])]\n",
    "minmax_diabper1000"
   ]
  },
  {
   "cell_type": "code",
   "execution_count": 6,
   "metadata": {},
   "outputs": [],
   "source": [
    "#drop missing data\n",
    "#cdc.dropna(subset =['Diabetes_Number'])\n",
    "#cdc.describe()"
   ]
  },
  {
   "cell_type": "markdown",
   "metadata": {},
   "source": [
    "Plot of three different graphs:"
   ]
  },
  {
   "cell_type": "markdown",
   "metadata": {},
   "source": [
    "##### Plot 1: Distribution of Diabetes Cases across Counties in the U.S #####"
   ]
  },
  {
   "cell_type": "code",
   "execution_count": 7,
   "metadata": {},
   "outputs": [
    {
     "data": {
      "text/plain": [
       "Text(0, 0.5, 'Number of Counties')"
      ]
     },
     "execution_count": 7,
     "metadata": {},
     "output_type": "execute_result"
    },
    {
     "data": {
      "image/png": "[encoded data removed]",
      "text/plain": [
       "<Figure size 432x288 with 1 Axes>"
      ]
     },
     "metadata": {
      "needs_background": "light"
     },
     "output_type": "display_data"
    }
   ],
   "source": [
    "#histogram of Diabetes cases\n",
    "cdc.hist('Diabetes_Number', bins = range(0, 50000, 100))\n",
    "plt.title('Distribution of Diabetes Cases in U.S')\n",
    "plt.xlabel('Reported Number of Diabetes Cases ')\n",
    "plt.ylabel('Number of Counties')"
   ]
  },
  {
   "cell_type": "markdown",
   "metadata": {},
   "source": [
    "##### Plot 1 findings #####\n",
    "What we do see is that a majority of the counties in the U.S. report somewhere between 0 and 5,000 diabetes cases.  There are a few outliers, i.e. few counties with 30-50K cases.  While this visualization is truncated, we see there are very few counties >100K, and just one county >500K   "
   ]
  },
  {
   "cell_type": "markdown",
   "metadata": {},
   "source": [
    "##### Plot 2: Diabetes Cases by State"
   ]
  },
  {
   "cell_type": "code",
   "execution_count": 8,
   "metadata": {},
   "outputs": [
    {
     "data": {
      "image/png": "[encoded data removed]",
      "text/plain": [
       "<Figure size 432x288 with 1 Axes>"
      ]
     },
     "metadata": {
      "needs_background": "light"
     },
     "output_type": "display_data"
    }
   ],
   "source": [
    "## plot of diabetes by state\n",
    "x = cdc['State']\n",
    "y = cdc['Diabetes_Number']\n",
    "plt.bar(list(x), y)\n",
    "\n",
    "plt.title('Number of Diabetes Cases by State')\n",
    "plt.xticks(x, rotation = 90)\n",
    "plt.xlabel('US States')\n",
    "plt.ylabel('Diabetes Cases')\n",
    "plt.show()"
   ]
  },
  {
   "cell_type": "markdown",
   "metadata": {},
   "source": [
    "##### Plot 2B: Diabetes Cases by Geographic Location\n",
    "\n",
    "(can't figure out)"
   ]
  },
  {
   "cell_type": "code",
   "execution_count": 9,
   "metadata": {},
   "outputs": [
    {
     "ename": "NameError",
     "evalue": "name 'nomiss_stdcdc' is not defined",
     "output_type": "error",
     "traceback": [
      "\u001b[0;31m---------------------------------------------------------------------------\u001b[0m",
      "\u001b[0;31mNameError\u001b[0m                                 Traceback (most recent call last)",
      "\u001b[0;32m<ipython-input-9-1511af78e9ae>\u001b[0m in \u001b[0;36m<module>\u001b[0;34m\u001b[0m\n\u001b[1;32m     16\u001b[0m \u001b[0;31m#Other = Puerto Rico\u001b[0m\u001b[0;34m\u001b[0m\u001b[0;34m\u001b[0m\u001b[0;34m\u001b[0m\u001b[0m\n\u001b[1;32m     17\u001b[0m \u001b[0;34m\u001b[0m\u001b[0m\n\u001b[0;32m---> 18\u001b[0;31m west = nomiss_stdcdc({\"State\": [\"Alaska\" , \"California\" , \"Oregon\" , \"Washington\" , \n\u001b[0m\u001b[1;32m     19\u001b[0m                           \u001b[0;34m\"Nevada\"\u001b[0m\u001b[0;34m,\u001b[0m \u001b[0;34m\"Utah\"\u001b[0m \u001b[0;34m,\u001b[0m \u001b[0;34m\"Idaho\"\u001b[0m \u001b[0;34m,\u001b[0m \u001b[0;34m\"Montana\"\u001b[0m \u001b[0;34m,\u001b[0m \u001b[0;34m\"Idaho\"\u001b[0m \u001b[0;34m,\u001b[0m\u001b[0;34m\u001b[0m\u001b[0;34m\u001b[0m\u001b[0m\n\u001b[1;32m     20\u001b[0m                           \u001b[0;34m\"Montana\"\u001b[0m \u001b[0;34m,\u001b[0m \u001b[0;34m\"Wyoming\"\u001b[0m \u001b[0;34m,\u001b[0m \u001b[0;34m\"Colorado\"\u001b[0m \u001b[0;34m,\u001b[0m \u001b[0;34m\"Arizona\"\u001b[0m \u001b[0;34m,\u001b[0m\u001b[0;34m\u001b[0m\u001b[0;34m\u001b[0m\u001b[0m\n",
      "\u001b[0;31mNameError\u001b[0m: name 'nomiss_stdcdc' is not defined"
     ]
    }
   ],
   "source": [
    "\n",
    "\n",
    "#create geographic area variable\n",
    "\n",
    "#West = Alaska, California, Oregon, Washington, Nevada\n",
    "       #Utah, Idaho, Montana, Wyoming, Colorado, Arizona, New Mexico\n",
    "\n",
    "#Midwest = North Dakota, South Dakota, Nebraska, Kansas, Minnesota, Iowa, Missouri\n",
    "#Wisconsin, Illinois, Indiana, Michigan, Ohio\n",
    "\n",
    "#South = Oklahoma, Texas, Arkansas, Louisiana, Mississippi, \n",
    "# Alabama, Georgia, Florida, Tenesee, Kentucky, West Virgina,\n",
    "#Virginia, North Carolina, South Carolina, Maryland, Deleware, Washington D.C.\n",
    "\n",
    "#Northeast = Pennsylvania, New York, New Jersey, Connecticut, Rhode Islad, Massachusetts, New Hampshire, \n",
    "# Vermont, Maine\n",
    "\n",
    "#Other = Puerto Rico\n",
    "\n",
    "west = nomiss_stdcdc({\"State\": [\"Alaska\" , \"California\" , \"Oregon\" , \"Washington\" , \n",
    "                          \"Nevada\", \"Utah\" , \"Idaho\" , \"Montana\" , \"Idaho\" , \n",
    "                          \"Montana\" , \"Wyoming\" , \"Colorado\" , \"Arizona\" , \n",
    "                          \"New Mexico\"]})\n",
    "\n",
    "\n",
    "pd.DataFrame({'race': ['White', 'Black or African American', 'American Indian & Alaska Native',\n",
    "                                 'Asian', 'Native Hawaiian & Other Pacific Islander', 'Other race'],\n",
    "                        'Count': [race_white, race_black, race_aaai, race_asian, race_nhpi, race_other]},\n",
    "                       )\n",
    "\n",
    "midwest = cdc({\"State\": [\"North Dakota\", \"South Dakota\" , \"Nebraska\", \"Kansas\", \n",
    "                             \"Minnesota\", \"Iowa\", \"Missouri\", \"Wisconsin\", \"Illinois\", \n",
    "                             \"Indiana\", \"Michigan\", \"Ohio\"]})\n",
    "\n",
    "south = cdc({\"State\": [\"Oklahoma\", \"Texas\", \"Arkansas\", \"Louisiana\", \"Mississippi\", \n",
    "                           \"Alabama\", \"Georgia\", \"Florida\", \"Tenesee\", \"Kentucky\", \"West Virgina\",\n",
    "                           \"Virginia\", \"North Carolina\", \"South Carolina\", \"Maryland\", \n",
    "                           \"Deleware\", \"District of Columbia\"]})\n",
    "\n",
    "northeast = cdc({\"State\": [\"Pennsylvania\", \"New York\", \"New Jersey\", \"Connecticut\", \n",
    "                               \"Rhode Island\", \"Massachusetts\", \"New Hampshire\", \n",
    "                               \"Vermont\", \"Maine\"]})\n",
    "\n",
    "otherregion = cdc({\"State\": [\"Puerto Rico\"]})"
   ]
  },
  {
   "cell_type": "code",
   "execution_count": null,
   "metadata": {},
   "outputs": [],
   "source": [
    "#create racial category variable\n",
    "race_black = sum(cdc[\"race_total population_one race_black or african american\"])\n",
    "race_white = sum(cdc[\"race_total population_one race_white\"])\n",
    "race_aaai = sum(cdc[\"race_total population_one race_american indian and alaska native\"])\n",
    "race_asian = sum(cdc[\"race_total population_one race_asian\"])\n",
    "race_nhpi = sum(cdc[\"race_total population_one race_native hawaiian and other pacific islander\"])\n",
    "race_other = sum(cdc[\"race_total population_one race_some other race\"])\n",
    "\n",
    "race_cat = pd.DataFrame({'race': ['White', 'Black or African American', 'American Indian & Alaska Native',\n",
    "                                 'Asian', 'Native Hawaiian & Other Pacific Islander', 'Other race'],\n",
    "                        'Count': [race_white, race_black, race_aaai, race_asian, race_nhpi, race_other]},\n",
    "                       )\n",
    "\n",
    "race_cat"
   ]
  },
  {
   "cell_type": "code",
   "execution_count": null,
   "metadata": {},
   "outputs": [],
   "source": [
    "#race category proportion\n",
    "race_black_prop = sum(cdc[\"race_total population_one race_black or african american\"])/ sum(cdc[\"race_total population_one race_1\"])\n",
    "race_white_prop = sum(cdc[\"race_total population_one race_white\"]) /sum(cdc[\"race_total population_one race_1\"])\n",
    "race_aaai_prop = sum(cdc[\"race_total population_one race_american indian and alaska native\"]) /sum(cdc[\"race_total population_one race_1\"])\n",
    "race_asian_prop = sum(cdc[\"race_total population_one race_asian\"])/sum(cdc[\"race_total population_one race_1\"])\n",
    "race_nhpi_prop = sum(cdc[\"race_total population_one race_native hawaiian and other pacific islander\"])/sum(cdc[\"race_total population_one race_1\"])\n",
    "race_other_prop = sum(cdc[\"race_total population_one race_some other race\"])/sum(cdc[\"race_total population_one race_1\"])\n",
    "\n",
    "race_cat_prop = pd.DataFrame({'race': ['White', 'Black or African American', 'American Indian & Alaska Native',\n",
    "                                 'Asian', 'Native Hawaiian & Other Pacific Islander', 'Other race'],\n",
    "                        'Count': [race_white_prop, race_black_prop, race_aaai_prop, race_asian_prop, race_nhpi_prop, race_other_prop]},\n",
    "                       )\n",
    "\n",
    "race_cat_prop"
   ]
  },
  {
   "cell_type": "code",
   "execution_count": null,
   "metadata": {},
   "outputs": [],
   "source": [
    "#check if categorization has total\n",
    "#sum1 = sum(cdc[\"race_total population_one race_1\"])\n",
    "#sum2 = race_black + race_white + race_aaai + race_asian + race_nhpi + race_other\n",
    "#it does! 315678708"
   ]
  },
  {
   "cell_type": "code",
   "execution_count": null,
   "metadata": {},
   "outputs": [],
   "source": [
    "#white/non-white ratio\n",
    "cdc['white_other_ratio'] = cdc[\"race_total population_one race_white\"] / (cdc[\"race_total population_one race_american indian and alaska native\"]+ \n",
    "cdc[\"race_total population_one race_asian\"]+\n",
    "cdc[\"race_total population_one race_native hawaiian and other pacific islander\"] + \n",
    "cdc[\"race_total population_one race_some other race\"])*100\n",
    "\n",
    "cdc.head(10)"
   ]
  },
  {
   "cell_type": "markdown",
   "metadata": {},
   "source": [
    "##### Plot 3A: Racial distribution of Diabetes Cases"
   ]
  },
  {
   "cell_type": "code",
   "execution_count": null,
   "metadata": {},
   "outputs": [],
   "source": [
    "## plot of diabetes by race\n",
    "x = race_cat['race']\n",
    "y = race_cat['Count']\n",
    "plt.bar(x, y)\n",
    "\n",
    "plt.title('Number of Diabetes Cases by Race')\n",
    "plt.xticks(x, rotation = 90)\n",
    "plt.xlabel('Race')\n",
    "plt.ylabel('Diabetes Cases')\n",
    "plt.show()"
   ]
  },
  {
   "cell_type": "markdown",
   "metadata": {},
   "source": [
    "##### Plot 3B: Racial distribution of Diabetes Cases"
   ]
  },
  {
   "cell_type": "code",
   "execution_count": null,
   "metadata": {},
   "outputs": [],
   "source": [
    "#plot white vs. non-white diabetes\n",
    "\n",
    "sns.regplot(x='white_other_ratio', y='Diabetes_Number', data=cdc, color='teal')\n",
    "\n",
    "plt.title('Regression of Diabetes on Race Ratio (white per 100 non-white)')\n",
    "plt.xlabel('Race Ratio')\n",
    "plt.ylabel('Diabetes Cases')"
   ]
  },
  {
   "cell_type": "markdown",
   "metadata": {},
   "source": [
    "##### Findings from Plot 3B ####\n",
    "\n",
    "We see from this plot above that those counties with the lowest white-non-white ratio have the highest diabetes rates. This may point to some racial disparities in diabetes."
   ]
  },
  {
   "cell_type": "markdown",
   "metadata": {},
   "source": [
    "## 3) Prepare to Fit Models ##"
   ]
  },
  {
   "cell_type": "markdown",
   "metadata": {},
   "source": [
    "### 3.1 Clean Data ###"
   ]
  },
  {
   "cell_type": "markdown",
   "metadata": {},
   "source": [
    "##### Remove any features that should not be used in the analysis (for instance, county name), transform categorical features so they can be used in a machine learning pipeline, and conduct any other steps necessary to prepare the data for fitting models."
   ]
  },
  {
   "cell_type": "markdown",
   "metadata": {},
   "source": [
    "To check for multi-colinearity, let's do a Pearson correlation matrix (while some the cutoff for what \"too high\" of a correlation is to include both features in your model, [Vatcheva et al., 2016](https://www.ncbi.nlm.nih.gov/pmc/articles/PMC4888898/#:~:text=When%20a%20multicollinearity%20diagnostic%20is,cutoff%20is%200.80%20%5B37%5D./) suggest using $\\rho \\geq 0.80$ as being too highly colinear."
   ]
  },
  {
   "cell_type": "code",
   "execution_count": null,
   "metadata": {},
   "outputs": [],
   "source": [
    "correlation_matrix=cdc.corr()\n",
    "correlation_matrix"
   ]
  },
  {
   "cell_type": "code",
   "execution_count": null,
   "metadata": {},
   "outputs": [],
   "source": [
    "## See all features we have in dataset ## \n",
    "for col in cdc.columns: \n",
    "   print(col)"
   ]
  },
  {
   "cell_type": "code",
   "execution_count": null,
   "metadata": {},
   "outputs": [],
   "source": [
    "## Replaces the frequency with the proportion of the population in each categor for race ##\n",
    "cdc[['race_total population_one race',\n",
    "'race_total population_two or more races',\n",
    "'race_total population_one race_1',\n",
    "'race_total population_one race_white',\n",
    "'race_total population_one race_black or african american',\n",
    "'race_total population_one race_american indian and alaska native',\n",
    "'race_total population_one race_american indian and alaska native_cherokee tribal grouping',\n",
    "'race_total population_one race_american indian and alaska native_chippewa tribal grouping',\n",
    "'race_total population_one race_american indian and alaska native_navajo tribal grouping',\n",
    "'race_total population_one race_american indian and alaska native_sioux tribal grouping',\n",
    "'race_total population_one race_asian',\n",
    "'race_total population_one race_asian_asian indian',\n",
    "'race_total population_one race_asian_chinese',\n",
    "'race_total population_one race_asian_filipino',\n",
    "'race_total population_one race_asian_japanese',\n",
    "'race_total population_one race_asian_korean',\n",
    "'race_total population_one race_asian_vietnamese',\n",
    "'race_total population_one race_asian_other asian',\n",
    "'race_total population_one race_native hawaiian and other pacific islander',\n",
    "'race_total population_one race_native hawaiian and other pacific islander_native hawaiian',\n",
    "'race_total population_one race_native hawaiian and other pacific islander_guamanian or chamorro',\n",
    "'race_total population_one race_native hawaiian and other pacific islander_samoan',\n",
    "'race_total population_one race_native hawaiian and other pacific islander_other pacific islander',\n",
    "'race_total population_one race_some other race',\n",
    "'race_total population_two or more races_1',\n",
    "'race_total population_two or more races_white and black or african american',\n",
    "'race_total population_two or more races_white and american indian and alaska native',\n",
    "'race_total population_two or more races_white and asian',\n",
    "'race_total population_two or more races_black or african american and american indian and alaska native',\n",
    "'race alone or in combination with one or more other races_total population',\n",
    "'race alone or in combination with one or more other races_total population_white',\n",
    "'race alone or in combination with one or more other races_total population_black or african american',\n",
    "'race alone or in combination with one or more other races_total population_american indian and alaska native',\n",
    "'race alone or in combination with one or more other races_total population_asian',\n",
    "'race alone or in combination with one or more other races_total population_native hawaiian and other pacific islander',\n",
    "'race alone or in combination with one or more other races_total population_some other race',\n",
    "]]=cdc[['race_total population_one race',\n",
    "'race_total population_two or more races',\n",
    "'race_total population_one race_1',\n",
    "'race_total population_one race_white',\n",
    "'race_total population_one race_black or african american',\n",
    "'race_total population_one race_american indian and alaska native',\n",
    "'race_total population_one race_american indian and alaska native_cherokee tribal grouping',\n",
    "'race_total population_one race_american indian and alaska native_chippewa tribal grouping',\n",
    "'race_total population_one race_american indian and alaska native_navajo tribal grouping',\n",
    "'race_total population_one race_american indian and alaska native_sioux tribal grouping',\n",
    "'race_total population_one race_asian',\n",
    "'race_total population_one race_asian_asian indian',\n",
    "'race_total population_one race_asian_chinese',\n",
    "'race_total population_one race_asian_filipino',\n",
    "'race_total population_one race_asian_japanese',\n",
    "'race_total population_one race_asian_korean',\n",
    "'race_total population_one race_asian_vietnamese',\n",
    "'race_total population_one race_asian_other asian',\n",
    "'race_total population_one race_native hawaiian and other pacific islander',\n",
    "'race_total population_one race_native hawaiian and other pacific islander_native hawaiian',\n",
    "'race_total population_one race_native hawaiian and other pacific islander_guamanian or chamorro',\n",
    "'race_total population_one race_native hawaiian and other pacific islander_samoan',\n",
    "'race_total population_one race_native hawaiian and other pacific islander_other pacific islander',\n",
    "'race_total population_one race_some other race',\n",
    "'race_total population_two or more races_1',\n",
    "'race_total population_two or more races_white and black or african american',\n",
    "'race_total population_two or more races_white and american indian and alaska native',\n",
    "'race_total population_two or more races_white and asian',\n",
    "'race_total population_two or more races_black or african american and american indian and alaska native',\n",
    "'race alone or in combination with one or more other races_total population',\n",
    "'race alone or in combination with one or more other races_total population_white',\n",
    "'race alone or in combination with one or more other races_total population_black or african american',\n",
    "'race alone or in combination with one or more other races_total population_american indian and alaska native',\n",
    "'race alone or in combination with one or more other races_total population_asian',\n",
    "'race alone or in combination with one or more other races_total population_native hawaiian and other pacific islander',\n",
    "'race alone or in combination with one or more other races_total population_some other race',\n",
    "]].div(cdc['race_total population'], axis=0)\n",
    "\n",
    "cdc.head(5)"
   ]
  },
  {
   "cell_type": "code",
   "execution_count": null,
   "metadata": {},
   "outputs": [],
   "source": [
    "## Replace the value with the proportion of the population in each category for Hispanic background ##\n",
    "cdc[['hispanic or latino and race_total population_hispanic or latino (of any race)',\n",
    "'hispanic or latino and race_total population_hispanic or latino (of any race)_mexican',\n",
    "'hispanic or latino and race_total population_hispanic or latino (of any race)_puerto rican',\n",
    "'hispanic or latino and race_total population_hispanic or latino (of any race)_cuban',\n",
    "'hispanic or latino and race_total population_hispanic or latino (of any race)_other hispanic or latino',\n",
    "'hispanic or latino and race_total population_not hispanic or latino',\n",
    "'hispanic or latino and race_total population_not hispanic or latino_white alone',\n",
    "'hispanic or latino and race_total population_not hispanic or latino_black or african american alone',\n",
    "'hispanic or latino and race_total population_not hispanic or latino_american indian and alaska native alone',\n",
    "'hispanic or latino and race_total population_not hispanic or latino_asian alone',\n",
    "'hispanic or latino and race_total population_not hispanic or latino_native hawaiian and other pacific islander alone',\n",
    "'hispanic or latino and race_total population_not hispanic or latino_some other race alone',\n",
    "'hispanic or latino and race_total population_not hispanic or latino_two or more races',\n",
    "'hispanic or latino and race_total population_not hispanic or latino_two or more races_two races including some other race',\n",
    "'hispanic or latino and race_total population_not hispanic or latino_two or more races_two races excluding some other race -  and three or more races']]=cdc[['hispanic or latino and race_total population_hispanic or latino (of any race)',\n",
    "'hispanic or latino and race_total population_hispanic or latino (of any race)_mexican',\n",
    "'hispanic or latino and race_total population_hispanic or latino (of any race)_puerto rican',\n",
    "'hispanic or latino and race_total population_hispanic or latino (of any race)_cuban',\n",
    "'hispanic or latino and race_total population_hispanic or latino (of any race)_other hispanic or latino',\n",
    "'hispanic or latino and race_total population_not hispanic or latino',\n",
    "'hispanic or latino and race_total population_not hispanic or latino_white alone',\n",
    "'hispanic or latino and race_total population_not hispanic or latino_black or african american alone',\n",
    "'hispanic or latino and race_total population_not hispanic or latino_american indian and alaska native alone',\n",
    "'hispanic or latino and race_total population_not hispanic or latino_asian alone',\n",
    "'hispanic or latino and race_total population_not hispanic or latino_native hawaiian and other pacific islander alone',\n",
    "'hispanic or latino and race_total population_not hispanic or latino_some other race alone',\n",
    "'hispanic or latino and race_total population_not hispanic or latino_two or more races',\n",
    "'hispanic or latino and race_total population_not hispanic or latino_two or more races_two races including some other race',\n",
    "'hispanic or latino and race_total population_not hispanic or latino_two or more races_two races excluding some other race -  and three or more races']].div(cdc['hispanic or latino and race_total population'], axis=0)"
   ]
  },
  {
   "cell_type": "code",
   "execution_count": null,
   "metadata": {},
   "outputs": [],
   "source": [
    "## Replace with proportion of one-race (new variables instead of reassignment, since that would overwrite others) ##\n",
    "cdc[['onerace_white', \n",
    "    'onerace_blackorafricanamerican', \n",
    "    'onerace_aminalnative',\n",
    "    'onerace_amindalnative_cherokee',\n",
    "    'onerace_amindalnative_chippewa',\n",
    "    'onerace_amindalnative_navajo',\n",
    "    'onerace_amindalnative_sioux',\n",
    "    'onerace_asian', \n",
    "    'onerace_asian_indian', \n",
    "    'onerace_asian_chinese',\n",
    "    'onerace_asian_filipino',\n",
    "    'onerace_asian_japanese', \n",
    "    'onerace_asian_korean', \n",
    "    'onerace_asian_vietnamese', \n",
    "    'onerace_asian_otherasian',\n",
    "    'onerace_nativehwpi', \n",
    "    'onerace_nativehwpi_hawaiian', \n",
    "    'onerace_nativehwpi_guamcham',\n",
    "    'onerace_nativehwpi_samon', \n",
    "    'onerace_nativehwpi_otherpi', \n",
    "    'onerace_other']]=cdc[['race_total population_one race_white',\n",
    "    'race_total population_one race_black or african american',\n",
    "    'race_total population_one race_american indian and alaska native',\n",
    "    'race_total population_one race_american indian and alaska native_cherokee tribal grouping',\n",
    "    'race_total population_one race_american indian and alaska native_chippewa tribal grouping',\n",
    "    'race_total population_one race_american indian and alaska native_navajo tribal grouping',\n",
    "    'race_total population_one race_american indian and alaska native_sioux tribal grouping',\n",
    "    'race_total population_one race_asian',\n",
    "    'race_total population_one race_asian_asian indian',\n",
    "    'race_total population_one race_asian_chinese',\n",
    "    'race_total population_one race_asian_filipino',\n",
    "    'race_total population_one race_asian_japanese',\n",
    "    'race_total population_one race_asian_korean',\n",
    "    'race_total population_one race_asian_vietnamese',\n",
    "    'race_total population_one race_asian_other asian',\n",
    "    'race_total population_one race_native hawaiian and other pacific islander',\n",
    "    'race_total population_one race_native hawaiian and other pacific islander_native hawaiian',\n",
    "    'race_total population_one race_native hawaiian and other pacific islander_guamanian or chamorro',\n",
    "    'race_total population_one race_native hawaiian and other pacific islander_samoan',\n",
    "    'race_total population_one race_native hawaiian and other pacific islander_other pacific islander',\n",
    "    'race_total population_one race_some other race']].div(cdc['race_total population_one race'], axis=0)"
   ]
  },
  {
   "cell_type": "code",
   "execution_count": null,
   "metadata": {},
   "outputs": [],
   "source": [
    "## Create the same for two or more races ##\n",
    "cdc[['twoormoreraces_whiteandblack','twoormoreraces_whiteandaminalan', 'twoormoreraces_whiteandaisan', 'twoormoreraces_blakandaminalan']]=cdc[[\n",
    "'race_total population_two or more races_white and black or african american',\n",
    "'race_total population_two or more races_white and american indian and alaska native',\n",
    "'race_total population_two or more races_white and asian',\n",
    "'race_total population_two or more races_black or african american and american indian and alaska native']].div(cdc['race_total population_two or more races_1'], axis=0)"
   ]
  },
  {
   "cell_type": "code",
   "execution_count": null,
   "metadata": {},
   "outputs": [],
   "source": [
    "## Citizen voting age variables (of voting age, male and female) ##\n",
    "cdc[['ofvotingage_male', 'ofvotingage_female']]=cdc[['citizen -  voting age population_citizen -  18 and over population_male',\n",
    "'citizen -  voting age population_citizen -  18 and over population_female']].div(cdc['citizen -  voting age population_citizen -  18 and over population'], axis=0)"
   ]
  },
  {
   "cell_type": "code",
   "execution_count": null,
   "metadata": {},
   "outputs": [],
   "source": [
    "## Age categories to proportions ##\n",
    "cdc[['sex and age_total population_under 5 years',\n",
    "'sex and age_total population_5 to 9 years',\n",
    "'sex and age_total population_10 to 14 years',\n",
    "'sex and age_total population_15 to 19 years',\n",
    "'sex and age_total population_20 to 24 years',\n",
    "'sex and age_total population_25 to 34 years',\n",
    "'sex and age_total population_35 to 44 years',\n",
    "'sex and age_total population_45 to 54 years',\n",
    "'sex and age_total population_55 to 59 years',\n",
    "'sex and age_total population_60 to 64 years',\n",
    "'sex and age_total population_65 to 74 years',\n",
    "'sex and age_total population_75 to 84 years',\n",
    "'sex and age_total population_85 years and over']]=cdc[['sex and age_total population_under 5 years',\n",
    "'sex and age_total population_5 to 9 years',\n",
    "'sex and age_total population_10 to 14 years',\n",
    "'sex and age_total population_15 to 19 years',\n",
    "'sex and age_total population_20 to 24 years',\n",
    "'sex and age_total population_25 to 34 years',\n",
    "'sex and age_total population_35 to 44 years',\n",
    "'sex and age_total population_45 to 54 years',\n",
    "'sex and age_total population_55 to 59 years',\n",
    "'sex and age_total population_60 to 64 years',\n",
    "'sex and age_total population_65 to 74 years',\n",
    "'sex and age_total population_75 to 84 years',\n",
    "'sex and age_total population_85 years and over']].div(cdc['sex and age_total population'], axis=0)"
   ]
  },
  {
   "cell_type": "code",
   "execution_count": null,
   "metadata": {},
   "outputs": [],
   "source": [
    "## One more! A few more of the age/sex vars ##\n",
    "cdc[['sex and age_total population_median age (years)',\n",
    "'sex and age_total population_under 18 years',\n",
    "'sex and age_total population_16 years and over',\n",
    "'sex and age_total population_18 years and over',\n",
    "'sex and age_total population_21 years and over',\n",
    "'sex and age_total population_62 years and over',\n",
    "'sex and age_total population_65 years and over',\n",
    "'sex and age_total population_18 years and over_male',\n",
    "'sex and age_total population_18 years and over_female',\n",
    "'sex and age_total population_65 years and over_male',\n",
    "'sex and age_total population_65 years and over_female']]=cdc[['sex and age_total population_median age (years)',\n",
    "'sex and age_total population_under 18 years',\n",
    "'sex and age_total population_16 years and over',\n",
    "'sex and age_total population_18 years and over',\n",
    "'sex and age_total population_21 years and over',\n",
    "'sex and age_total population_62 years and over',\n",
    "'sex and age_total population_65 years and over',\n",
    "'sex and age_total population_18 years and over_male',\n",
    "'sex and age_total population_18 years and over_female',\n",
    "'sex and age_total population_65 years and over_male',\n",
    "'sex and age_total population_65 years and over_female']].div(cdc['sex and age_total population'], axis=0)"
   ]
  },
  {
   "cell_type": "code",
   "execution_count": null,
   "metadata": {},
   "outputs": [],
   "source": [
    "## Drop variables that are repeats (the _1 vars) and just male just female (we'll just use the ratios, ##\n",
    "## so long as they exist - (i.e., not for 65+, no ratio). Also drop County ##\n",
    "cdc=cdc.drop(columns=['sex and age_total population_65 years and over_1', \n",
    "          'race_total population_one race_1', \n",
    "          'race_total population_two or more races_1',\n",
    "          'sex and age_total population_18 years and over_1', \n",
    "          'sex and age_total population_65 years and over_1', \n",
    "          'sex and age_total population_male', \n",
    "          'sex and age_total population_female', \n",
    "          'sex and age_total population_18 years and over_male',\n",
    "          'sex and age_total population_18 years and over_female', 'County'])"
   ]
  },
  {
   "cell_type": "code",
   "execution_count": null,
   "metadata": {},
   "outputs": [],
   "source": [
    "## Create state dummies (1/0) ##\n",
    "for elem in cdc['State'].unique():\n",
    "    cdc[str(elem)] = (cdc['State'] == elem).astype(int)"
   ]
  },
  {
   "cell_type": "code",
   "execution_count": null,
   "metadata": {},
   "outputs": [],
   "source": [
    "State_mergeback=cdc[['Alabama', 'Alaska', 'Arizona', 'Arkansas', 'California', 'Colorado', 'Connecticut',\n",
    "                   'Delaware', 'Florida', 'Georgia', 'Hawaii', 'Idaho', 'Illinois', 'Indiana', 'Iowa', 'Kansas',\n",
    "                   'Kentucky', 'Louisiana', 'Maine', 'Maryland', 'Massachusetts', 'Michigan', 'Minnesota',\n",
    "                   'Mississippi', 'Missouri', 'Montana', 'Nebraska', 'Nevada', 'New Hampshire', 'New Jersey',\n",
    "                   'New Mexico', 'New York', 'North Carolina', 'North Dakota', 'Ohio', 'Oklahoma', 'Oregon', \n",
    "                   'Pennsylvania', 'Rhode Island', 'South Carolina', 'South Dakota', 'Tennessee', 'Texas',\n",
    "                   'Utah', 'Vermont', 'Washington', 'Wisconsin', 'Wyoming']]\n",
    "\n",
    "cdc=cdc.drop(columns=['State', 'CountyFIPS', 'Alabama', 'Alaska', 'Arizona', 'Arkansas', 'California', 'Colorado', 'Connecticut',\n",
    "                   'Delaware', 'Florida', 'Georgia', 'Hawaii', 'Idaho', 'Illinois', 'Indiana', 'Iowa', 'Kansas',\n",
    "                   'Kentucky', 'Louisiana', 'Maine', 'Maryland', 'Massachusetts', 'Michigan', 'Minnesota',\n",
    "                   'Mississippi', 'Missouri', 'Montana', 'Nebraska', 'Nevada', 'New Hampshire', 'New Jersey',\n",
    "                   'New Mexico', 'New York', 'North Carolina', 'North Dakota', 'Ohio', 'Oklahoma', 'Oregon', \n",
    "                   'Pennsylvania', 'Rhode Island', 'South Carolina', 'South Dakota', 'Tennessee', 'Texas',\n",
    "                   'Utah', 'Vermont', 'Washington', 'Wisconsin', 'Wyoming','white_other_ratio'])\n",
    "\n",
    "\n",
    "## For ratio var - there were some \"-\" instead of missing! ##\n",
    "cdc=cdc.replace('-', np.nan)"
   ]
  },
  {
   "cell_type": "code",
   "execution_count": null,
   "metadata": {},
   "outputs": [],
   "source": [
    "cdc.shape"
   ]
  },
  {
   "cell_type": "code",
   "execution_count": null,
   "metadata": {},
   "outputs": [],
   "source": [
    "## Standardize! ## \n",
    "## Citing from: https://medium.com/@rrfd/standardize-or-normalize-examples-in-python-e3f174b65dfc ##\n",
    "\n",
    "# Get column names first\n",
    "names = cdc.columns\n",
    "\n",
    "# Create the Scaler object\n",
    "scaler = preprocessing.StandardScaler()\n",
    "\n",
    "# Fit your data on the scaler object\n",
    "scaled_cdc = scaler.fit_transform(cdc)\n",
    "scaled_cdc = pd.DataFrame(scaled_cdc, columns=names)"
   ]
  },
  {
   "cell_type": "code",
   "execution_count": null,
   "metadata": {},
   "outputs": [],
   "source": [
    "## Merge state dummies back in ##\n",
    "## Cited from: https://towardsdatascience.com/the-dummys-guide-to-creating-dummy-variables-f21faddb1d40 ##\n",
    "scaled_cdc = scaled_cdc.merge(State_mergeback, left_index=True, right_index=True)"
   ]
  },
  {
   "cell_type": "code",
   "execution_count": null,
   "metadata": {},
   "outputs": [],
   "source": [
    "## Let's create a dataset with no missing values! ##\n",
    "nomiss_stdcdc=scaled_cdc.dropna()"
   ]
  },
  {
   "cell_type": "code",
   "execution_count": null,
   "metadata": {},
   "outputs": [],
   "source": [
    "## See all features we have in new dataset ## \n",
    "for col in nomiss_stdcdc.columns: \n",
    "   print(col)"
   ]
  },
  {
   "cell_type": "code",
   "execution_count": null,
   "metadata": {},
   "outputs": [],
   "source": [
    "\n",
    "#exclude the target (which is our diabetes variable)\n",
    "X = nomiss_stdcdc.drop(['Diabetes_Number'], axis = 1)\n",
    "\n",
    "#X = cdc[['Obesity_Number',\n",
    "         #'Physical_Inactivity_Number', \n",
    "     #'sex and age_total population_18 years and over_sex ratio (males per 100 females)', \n",
    "       # 'white_other_ratio']] \n",
    "\n",
    "#diabetes numbers\n",
    "y = nomiss_stdcdc['Diabetes_Number']"
   ]
  },
  {
   "cell_type": "code",
   "execution_count": null,
   "metadata": {},
   "outputs": [],
   "source": [
    "X.dtypes"
   ]
  },
  {
   "cell_type": "markdown",
   "metadata": {},
   "source": [
    "## 3.2 Partition Data ##"
   ]
  },
  {
   "cell_type": "markdown",
   "metadata": {},
   "source": [
    "##### Partition the data into train, validation, and test sets. Explain your choice of how much data to include in each set, and the tradeoffs involved with differing sizes in each set. Also describe the purpose of each set. #####"
   ]
  },
  {
   "cell_type": "code",
   "execution_count": null,
   "metadata": {},
   "outputs": [],
   "source": [
    "#set the random seed\n",
    "np.random.seed(10)\n",
    "\n",
    "#split the data\n",
    "#train_test_split and return 4 values: X_train, X_test, y_train, y_test\n",
    "\n",
    "X_train, X_test, y_train, y_test = train_test_split(X,y,\n",
    "                                                   train_size = 0.80, test_size = 0.20)"
   ]
  },
  {
   "cell_type": "code",
   "execution_count": null,
   "metadata": {},
   "outputs": [],
   "source": [
    "#check dimensions of each \n",
    "print(\"Shape of X train is\", X_train.shape)\n",
    "print(\"Shape of y_train is\", y_train.shape)\n",
    "print(\"Shape of X_test is\", X_test.shape)\n",
    "print(\"Shape of y_test is\", y_test.shape)"
   ]
  },
  {
   "cell_type": "code",
   "execution_count": null,
   "metadata": {},
   "outputs": [],
   "source": [
    "#Validation set\n",
    "X_train, X_validate, y_train, y_validate = train_test_split(X_train, y_train,\n",
    "                                                    train_size=0.75, test_size=0.25)\n",
    "\n",
    "#when would we sub in different numbers for different data. feel like with more sparse data, \n",
    "#we may want more in our training sie?\n",
    "\n",
    "#thinking about changing the train, test proportions and see how that changes the performance..."
   ]
  },
  {
   "cell_type": "markdown",
   "metadata": {},
   "source": [
    "How much data to include in each set?\n",
    "tradeoffs involved with differing sizes in each set?\n",
    "purpose of each set?\n",
    "- data splitting into multiple sets is a way to better equip the data to be able to perform well on out of sample data. This process of splitting our data accounts for machine learning models proclivity to overfitting, which makes it less generalizable outside of the exisiting data. In order to figure out the extent of this problem and correct for it, data is split before running a model. \n",
    "\n",
    "- the training set is what we train the data on to improve model accuracy and fit\n",
    "- the testing set is what we test the data on, to see how well our model performs in predicting the data\n",
    "- the validation set is the set we use to try out the models, and tweak accordingly before we finally test. we predict on this set before finally predicting on the testing set."
   ]
  },
  {
   "cell_type": "markdown",
   "metadata": {},
   "source": [
    "## 3.3 Feature Selection ##"
   ]
  },
  {
   "cell_type": "markdown",
   "metadata": {},
   "source": [
    "##### Investigate whether there are any features that you should remove prior to model fitting. For example, you might investigate whether there are highly correlated features or features with low variance. You may also consider using plots and relationships you found in the EDA stage for this question. #####"
   ]
  },
  {
   "cell_type": "markdown",
   "metadata": {},
   "source": [
    "Before going through validation, we decided to include features that have high co-linearity (i.e. Physical_Inactivity_Number, Obesity_Number).  \n",
    "Come back and write down what we did to transform all the variables and what we exlcuded..."
   ]
  },
  {
   "cell_type": "markdown",
   "metadata": {},
   "source": [
    "## 4) Train Models ##"
   ]
  },
  {
   "cell_type": "markdown",
   "metadata": {},
   "source": [
    "## 4.1 Model Description ##"
   ]
  },
  {
   "cell_type": "markdown",
   "metadata": {},
   "source": [
    "##### Do the following:\n",
    "##### • Choose 5 different machine learning techniques. See available ones in the [scikit-learn](https://scikit-learn.org/stable/) documentation.\n",
    "##### • Detail the basic logic and assumptions underlying each model, its pros/cons, and why it is a plausible choice for this problem. #####"
   ]
  },
  {
   "cell_type": "markdown",
   "metadata": {},
   "source": [
    "5 different machine learning techniques; why it's a plausible choice for this problem\n",
    "1. Linear Regression - we have a continuous-valued feature we are trying predict. \n",
    "2. Ridge Regression - penalizes for observations that are too far (outliers). Would see tighter coefficients as a consequence.\n",
    "3. LASSO Regression - LASSO drops features that are co-linear to zero\n",
    "\n",
    "###### 4 and 5? -- Aniket suggestions: elastic net and trees "
   ]
  },
  {
   "cell_type": "markdown",
   "metadata": {},
   "source": [
    "## 4.2 Train Models ##"
   ]
  },
  {
   "cell_type": "markdown",
   "metadata": {},
   "source": [
    "##### Train each model in the training set, and be sure to tune hyperparameters if appropriate. Report any relevant summary statistics from the training set, including how well each model fits the training data. #####"
   ]
  },
  {
   "cell_type": "markdown",
   "metadata": {},
   "source": [
    "#### Model 1: Linear Regression"
   ]
  },
  {
   "cell_type": "code",
   "execution_count": null,
   "metadata": {},
   "outputs": [],
   "source": [
    "#1. Linear Regression\n",
    "\n",
    "#create a model\n",
    "lin_reg = LinearRegression(normalize = True)\n",
    "\n",
    "#fit the model\n",
    "lin_model = lin_reg.fit(X_train, y_train)"
   ]
  },
  {
   "cell_type": "markdown",
   "metadata": {},
   "source": [
    "#### How good is our linear regression model? We examine this in the following by:\n",
    "- plotting residuals\n",
    "- calculating root mean squared error (RMSE)\n",
    "- hyperparameter tuning\n",
    "\n",
    "#### We report relevant findings and statistics."
   ]
  },
  {
   "cell_type": "code",
   "execution_count": null,
   "metadata": {},
   "outputs": [],
   "source": [
    "#Plotting Residuals\n",
    "\n",
    "#difference between predicted and actual values (error) gives sense of how good model is\n",
    "# predict the number of diabetes cases \n",
    "lin_pred = lin_model.predict(X_validate)\n",
    "\n",
    "# plot the residuals on a scatter plot\n",
    "plt.scatter(y_validate, lin_pred)\n",
    "plt.title('Linear Model (OLS) Predicted v. Actual')\n",
    "plt.xlabel('actual value')\n",
    "plt.ylabel('predicted value')\n",
    "plt.show()"
   ]
  },
  {
   "cell_type": "markdown",
   "metadata": {},
   "source": [
    "#### Findings from plotting our residuals: #### \n",
    "Looking at our residuals plot above, we see that our predicted value generally equals our actual value, save for a few outliers.  \n",
    "\n",
    "We do have quite a few gaps in the data (not sure what that is about)"
   ]
  },
  {
   "cell_type": "code",
   "execution_count": null,
   "metadata": {},
   "outputs": [],
   "source": [
    "#calculating rmse\n",
    "\n",
    "#define function rmse that calculates mean squared error of predicted set of values\n",
    "def rmse(pred, actual):\n",
    "    return np.sqrt(np.mean((pred - actual) ** 2))\n",
    "\n",
    "#rmse of linear model\n",
    "rmse_lin = rmse(lin_pred, y_validate)\n",
    "print(rmse_lin)"
   ]
  },
  {
   "cell_type": "markdown",
   "metadata": {},
   "source": [
    "#### Findings from calculating RMSE: #### \n",
    "Our RMSE is 0.22, which shows that there isn't a large average difference between our predicted and actual values using the linear model."
   ]
  },
  {
   "cell_type": "code",
   "execution_count": null,
   "metadata": {},
   "outputs": [],
   "source": [
    "#hyperparameter tuning\n",
    "param_grid = {'fit_intercept': ['True', 'False'],\n",
    "              'normalize': ['True', 'False']}\n",
    "\n",
    "lin_grid_reg = GridSearchCV(lin_reg, param_grid, cv=3, iid=False)\n",
    "lin_grid_reg.fit(X_train, y_train)\n",
    "\n",
    "best_index = np.argmax(lin_grid_reg.cv_results_[\"mean_test_score\"])\n",
    "best_lin_pred = lin_grid_reg.best_estimator_.predict(X_validate)\n",
    "\n",
    "print(lin_grid_reg.cv_results_[\"params\"][best_index])\n",
    "print('Best CV R^2:', max(lin_grid_reg.cv_results_[\"mean_test_score\"]))\n",
    "print('Validation R^2:', lin_grid_reg.score(X_validate, y_validate))\n",
    "print('Validation RMSE', rmse(best_lin_pred, y_validate))"
   ]
  },
  {
   "cell_type": "markdown",
   "metadata": {},
   "source": [
    "#### Findings from calculating hyperparameter tuning for linear model: #### \n",
    "Best CV R^2: -8.068223372220022e+23 <br>\n",
    "Validation R^2: 0.9453577972282164 <br>\n",
    "Validation RMSE 0.22126715948781495 <br>"
   ]
  },
  {
   "cell_type": "markdown",
   "metadata": {},
   "source": [
    "#### Model 2: Ridge Regression"
   ]
  },
  {
   "cell_type": "code",
   "execution_count": null,
   "metadata": {},
   "outputs": [],
   "source": [
    "# 2. Ridge Regression \n",
    "\n",
    "#create a model\n",
    "ridge_reg = Ridge() \n",
    "\n",
    "#fit the model\n",
    "ridge_model = ridge_reg.fit(X_train, y_train)\n",
    "ridge_reg_data = pd.DataFrame([ridge_model.coef_, X.columns]).T\n",
    "ridge_reg_data.columns = ['Coefficient', 'Feature']"
   ]
  },
  {
   "cell_type": "markdown",
   "metadata": {},
   "source": [
    "#### How good is our ridge model? We examine this in the following by:\n",
    "- plotting residuals\n",
    "- calculating root mean squared error (RMSE)\n",
    "- hyperparameter tuning\n",
    "\n",
    "#### We report relevant findings and statistics."
   ]
  },
  {
   "cell_type": "code",
   "execution_count": null,
   "metadata": {},
   "outputs": [],
   "source": [
    "#Plotting Residuals\n",
    "\n",
    "# use the model to make predictions\n",
    "ridge_pred = ridge_model.predict(X_validate)\n",
    "\n",
    "# plot the predictions\n",
    "plt.scatter(y_validate, ridge_pred)\n",
    "plt.title('Ridge Model')\n",
    "plt.xlabel('actual values')\n",
    "plt.ylabel('predicted values')\n",
    "plt.show()"
   ]
  },
  {
   "cell_type": "markdown",
   "metadata": {},
   "source": [
    "#### Findings from plotting our residuals for ridge model: #### \n",
    "Looking at our residuals plot above, we see that our predicted value generally equals our actual value. Compared to our linear model plot, we see that the outliers are no longer there; ridge seems to do a good job handling the outliers (as we would expect).  "
   ]
  },
  {
   "cell_type": "code",
   "execution_count": null,
   "metadata": {},
   "outputs": [],
   "source": [
    "#calculating rmse\n",
    "rmse_ridge = rmse(ridge_pred, y_validate)\n",
    "print(rmse_ridge)"
   ]
  },
  {
   "cell_type": "markdown",
   "metadata": {},
   "source": [
    "#### Findings from calculating RMSE for ridge model: #### \n",
    "Our RMSE for the ridge regression model is 0.089. When we compare with RMSE of 0.22 from linear model, seems that ridge is performing better to predict our data."
   ]
  },
  {
   "cell_type": "code",
   "execution_count": null,
   "metadata": {},
   "outputs": [],
   "source": [
    "#hyperparameter tuning\n",
    "\n",
    "param_grid = {'alpha': np.arange(.1, 1, .1),\n",
    "               'normalize': ['True', 'False'],\n",
    "             'fit_intercept': ['True', 'False'],\n",
    "             'solver': ['auto', 'svd', 'cholesky', 'lsqr']}\n",
    "\n",
    "ridge_grid_reg = GridSearchCV(ridge_reg, param_grid, cv=3, iid=False)\n",
    "ridge_grid_reg.fit(X_train, y_train)\n",
    "\n",
    "best_index = np.argmax(ridge_grid_reg.cv_results_[\"mean_test_score\"])\n",
    "best_ridge_pred = ridge_grid_reg.best_estimator_.predict(X_validate)\n",
    "\n",
    "print(ridge_grid_reg.cv_results_[\"params\"][best_index])\n",
    "print('Best CV R^2:', max(ridge_grid_reg.cv_results_[\"mean_test_score\"]))\n",
    "print('Validation R^2:', ridge_grid_reg.score(X_validate, y_validate))\n",
    "print('Validation RMSE', rmse(best_ridge_pred, y_validate))"
   ]
  },
  {
   "cell_type": "markdown",
   "metadata": {},
   "source": [
    "#### Findings from calculating hyperparameter tuning for ridge model: #### \n",
    "Best CV R^2: 0.9842699773512357 <br>\n",
    "Validation R^2: 0.9901938626949945 <br>\n",
    "Validation RMSE 0.09373501350857441 <br>"
   ]
  },
  {
   "cell_type": "markdown",
   "metadata": {},
   "source": [
    "#### Model 3: LASSO Regression"
   ]
  },
  {
   "cell_type": "code",
   "execution_count": null,
   "metadata": {},
   "outputs": [],
   "source": [
    "# 3. LASSO Regression\n",
    "\n",
    "#create a model\n",
    "lasso_reg = Lasso(max_iter=10000)  \n",
    "\n",
    "#fit a model\n",
    "lasso_model = lasso_reg.fit(X_train, y_train)\n",
    "lasso_reg_data = pd.DataFrame([lasso_model.coef_, X.columns]).T\n",
    "lasso_reg_data.columns = ['Coefficient', 'Feature']"
   ]
  },
  {
   "cell_type": "markdown",
   "metadata": {},
   "source": [
    "#### How good is our LASSO model? We examine this in the following by:\n",
    "- plotting residuals\n",
    "- calculating root mean squared error (RMSE)\n",
    "- hyperparameter tuning\n",
    "\n",
    "#### We report relevant findings and statistics."
   ]
  },
  {
   "cell_type": "code",
   "execution_count": null,
   "metadata": {},
   "outputs": [],
   "source": [
    "#Plotting Residuals\n",
    "\n",
    "# use the model to make predictions\n",
    "lasso_pred = lasso_model.predict(X_validate)\n",
    "\n",
    "# plot the predictions\n",
    "plt.scatter(y_validate, lasso_pred)\n",
    "plt.title('LASSO Model')\n",
    "plt.xlabel('actual values')\n",
    "plt.ylabel('predicted values')\n",
    "plt.show()"
   ]
  },
  {
   "cell_type": "markdown",
   "metadata": {},
   "source": [
    "#### Findings from plotting our residuals: #### \n",
    "Looking at the residual plot for our LASSO model, it appears that the line is a little more dispersed than both the ridge and linear residual plots, suggesting that LASSO might not be a good model to predict this data. This might be because LASSO is dropping some coefficients (shrinking them to 0) that are important in predicting our data."
   ]
  },
  {
   "cell_type": "code",
   "execution_count": null,
   "metadata": {},
   "outputs": [],
   "source": [
    "#calculating rmse\n",
    "rmse_lasso = rmse(lasso_pred, y_validate)\n",
    "print(rmse_lin, rmse_ridge, rmse_lasso)"
   ]
  },
  {
   "cell_type": "markdown",
   "metadata": {},
   "source": [
    "#### Findings from calculating RMSE: #### \n",
    "Our RMSE for the lasso regression model is 0.79. When we compare with RMSE of 0.22 from linear model and RMSE of 0.089 from ridge model, it seems that LASSO performs the worst in predicting our dataset."
   ]
  },
  {
   "cell_type": "code",
   "execution_count": 63,
   "metadata": {},
   "outputs": [
    {
     "name": "stdout",
     "output_type": "stream",
     "text": [
      "{'alpha': 0.1, 'fit_intercept': 'True', 'normalize': 'True', 'selection': 'cyclic'}\n",
      "Best CV R^2: -0.0028550289133850715\n",
      "Validation R^2: -0.0020959170835412877\n",
      "Validation RMSE 0.9475617201877921\n"
     ]
    },
    {
     "name": "stderr",
     "output_type": "stream",
     "text": [
      "/Users/mahadertamene/opt/anaconda3/lib/python3.8/site-packages/sklearn/model_selection/_search.py:847: FutureWarning: The parameter 'iid' is deprecated in 0.22 and will be removed in 0.24.\n",
      "  warnings.warn(\n"
     ]
    }
   ],
   "source": [
    "#hyperparameter tuning\n",
    "\n",
    "param_grid = {'alpha': np.arange(.1, 1, .1),\n",
    "               'normalize': ['True', 'False'],\n",
    "             'fit_intercept': ['True', 'False'],\n",
    "             'selection': ['cyclic', 'random']}\n",
    "\n",
    "lasso_grid_reg = GridSearchCV(lasso_reg, param_grid, cv=3, iid=False)\n",
    "lasso_grid_reg.fit(X_train, y_train)\n",
    "\n",
    "best_index = np.argmax(lasso_grid_reg.cv_results_[\"mean_test_score\"])\n",
    "best_lasso_pred = lasso_grid_reg.best_estimator_.predict(X_validate)\n",
    "\n",
    "print(lasso_grid_reg.cv_results_[\"params\"][best_index])\n",
    "print('Best CV R^2:', max(lasso_grid_reg.cv_results_[\"mean_test_score\"]))\n",
    "print('Validation R^2:', lasso_grid_reg.score(X_validate, y_validate))\n",
    "print('Validation RMSE', rmse(best_lasso_pred, y_validate))"
   ]
  },
  {
   "cell_type": "markdown",
   "metadata": {},
   "source": [
    "#### Findings from calculating hyperparameter tuning for LASSO model: #### \n",
    "Best CV R^2: -0.0028550289133850715 <br>\n",
    "Validation R^2: -0.0020959170835412877 <br>\n",
    "Validation RMSE 0.9475617201877921 <br>"
   ]
  },
  {
   "cell_type": "markdown",
   "metadata": {},
   "source": [
    "#### Model 4: Esastic Net"
   ]
  },
  {
   "cell_type": "code",
   "execution_count": 1,
   "metadata": {},
   "outputs": [
    {
     "ename": "NameError",
     "evalue": "name 'X_train' is not defined",
     "output_type": "error",
     "traceback": [
      "\u001b[0;31m---------------------------------------------------------------------------\u001b[0m",
      "\u001b[0;31mNameError\u001b[0m                                 Traceback (most recent call last)",
      "\u001b[0;32m<ipython-input-1-81f7997777f6>\u001b[0m in \u001b[0;36m<module>\u001b[0;34m\u001b[0m\n\u001b[1;32m      7\u001b[0m \u001b[0;34m\u001b[0m\u001b[0m\n\u001b[1;32m      8\u001b[0m \u001b[0;31m#fit a model\u001b[0m\u001b[0;34m\u001b[0m\u001b[0;34m\u001b[0m\u001b[0;34m\u001b[0m\u001b[0m\n\u001b[0;32m----> 9\u001b[0;31m \u001b[0melastic_model\u001b[0m \u001b[0;34m=\u001b[0m \u001b[0melastic_reg\u001b[0m\u001b[0;34m.\u001b[0m\u001b[0mfit\u001b[0m\u001b[0;34m(\u001b[0m\u001b[0mX_train\u001b[0m\u001b[0;34m,\u001b[0m \u001b[0my_train\u001b[0m\u001b[0;34m)\u001b[0m\u001b[0;34m\u001b[0m\u001b[0;34m\u001b[0m\u001b[0m\n\u001b[0m\u001b[1;32m     10\u001b[0m \u001b[0melastic_reg_data\u001b[0m \u001b[0;34m=\u001b[0m \u001b[0mpd\u001b[0m\u001b[0;34m.\u001b[0m\u001b[0mDataFrame\u001b[0m\u001b[0;34m(\u001b[0m\u001b[0;34m[\u001b[0m\u001b[0melastic_model\u001b[0m\u001b[0;34m.\u001b[0m\u001b[0mcoef_\u001b[0m\u001b[0;34m,\u001b[0m \u001b[0mX\u001b[0m\u001b[0;34m.\u001b[0m\u001b[0mcolumns\u001b[0m\u001b[0;34m]\u001b[0m\u001b[0;34m)\u001b[0m\u001b[0;34m.\u001b[0m\u001b[0mT\u001b[0m\u001b[0;34m\u001b[0m\u001b[0;34m\u001b[0m\u001b[0m\n\u001b[1;32m     11\u001b[0m \u001b[0melastic_reg_data\u001b[0m\u001b[0;34m.\u001b[0m\u001b[0mcolumns\u001b[0m \u001b[0;34m=\u001b[0m \u001b[0;34m[\u001b[0m\u001b[0;34m'Coefficient'\u001b[0m\u001b[0;34m,\u001b[0m \u001b[0;34m'Feature'\u001b[0m\u001b[0;34m]\u001b[0m\u001b[0;34m\u001b[0m\u001b[0;34m\u001b[0m\u001b[0m\n",
      "\u001b[0;31mNameError\u001b[0m: name 'X_train' is not defined"
     ]
    }
   ],
   "source": [
    "#4. Elastic Net\n",
    "\n",
    "from sklearn.linear_model import ElasticNet\n",
    "\n",
    "#create a model\n",
    "elastic_reg = ElasticNet\n",
    "\n",
    "#fit a model\n",
    "elastic_model = elastic_reg.fit(X_train, y_train)\n",
    "elastic_reg_data = pd.DataFrame([elastic_model.coef_, X.columns]).T\n",
    "elastic_reg_data.columns = ['Coefficient', 'Feature']"
   ]
  },
  {
   "cell_type": "markdown",
   "metadata": {},
   "source": [
    "#### How good is our [INSERT MODEL] model? We examine this in the following by:\n",
    "- plotting residuals\n",
    "- calculating root mean squared error (RMSE)\n",
    "- hyperparameter tuning\n",
    "\n",
    "#### We report relevant findings and statistics."
   ]
  },
  {
   "cell_type": "code",
   "execution_count": null,
   "metadata": {},
   "outputs": [],
   "source": [
    "#Plotting Residuals\n",
    "\n",
    "# use the model to make predictions\n",
    "\n",
    "\n",
    "# plot the predictions\n"
   ]
  },
  {
   "cell_type": "markdown",
   "metadata": {},
   "source": [
    "#### Findings from plotting our residuals: #### "
   ]
  },
  {
   "cell_type": "code",
   "execution_count": null,
   "metadata": {},
   "outputs": [],
   "source": [
    "#calculating rmse"
   ]
  },
  {
   "cell_type": "markdown",
   "metadata": {},
   "source": [
    "#### Findings from calculating RMSE: #### "
   ]
  },
  {
   "cell_type": "code",
   "execution_count": null,
   "metadata": {},
   "outputs": [],
   "source": [
    "#hyperparameter tuning"
   ]
  },
  {
   "cell_type": "markdown",
   "metadata": {},
   "source": [
    "#### Findings from calculating hyperparameter tuning for [INSERT MODEL] model: #### "
   ]
  },
  {
   "cell_type": "markdown",
   "metadata": {},
   "source": [
    "#### Model 5: Trees "
   ]
  },
  {
   "cell_type": "code",
   "execution_count": null,
   "metadata": {},
   "outputs": [],
   "source": [
    "#create a model\n",
    "\n",
    "#fit a model"
   ]
  },
  {
   "cell_type": "markdown",
   "metadata": {},
   "source": [
    "#### How good is our [INSERT MODEL] model? We examine this in the following by:\n",
    "- plotting residuals\n",
    "- calculating root mean squared error (RMSE)\n",
    "- hyperparameter tuning\n",
    "\n",
    "#### We report relevant findings and statistics."
   ]
  },
  {
   "cell_type": "code",
   "execution_count": null,
   "metadata": {},
   "outputs": [],
   "source": [
    "#Plotting Residuals\n",
    "\n",
    "# use the model to make predictions\n",
    "\n",
    "\n",
    "# plot the predictions\n"
   ]
  },
  {
   "cell_type": "markdown",
   "metadata": {},
   "source": [
    "#### Findings from plotting our residuals: #### "
   ]
  },
  {
   "cell_type": "code",
   "execution_count": null,
   "metadata": {},
   "outputs": [],
   "source": [
    "#calculating rmse"
   ]
  },
  {
   "cell_type": "markdown",
   "metadata": {},
   "source": [
    "#### Findings from calculating RMSE: #### "
   ]
  },
  {
   "cell_type": "code",
   "execution_count": null,
   "metadata": {},
   "outputs": [],
   "source": [
    "#hyperparameter tuning"
   ]
  },
  {
   "cell_type": "markdown",
   "metadata": {},
   "source": [
    "#### Findings from calculating hyperparameter tuning for [INSERT MODEL] model: #### "
   ]
  },
  {
   "cell_type": "markdown",
   "metadata": {},
   "source": [
    "## 5) Validate & Refine Models ##"
   ]
  },
  {
   "cell_type": "markdown",
   "metadata": {},
   "source": [
    "## 5.1 Predict on the Validation Set ##"
   ]
  },
  {
   "cell_type": "markdown",
   "metadata": {},
   "source": [
    "##### Using each of the models you trained, predict outcomes in the validation set. Evaluate how well each model did. #####"
   ]
  },
  {
   "cell_type": "code",
   "execution_count": 64,
   "metadata": {},
   "outputs": [],
   "source": [
    "#1. Linear Regression model\n",
    "y_pred = lin_model.predict(X_validate)"
   ]
  },
  {
   "cell_type": "code",
   "execution_count": null,
   "metadata": {},
   "outputs": [],
   "source": [
    "# 1. Linear regression model continued \n",
    "\n",
    "#plot the residuals on a scatter plot\n",
    "plt.scatter(y_validate, lin_pred)\n",
    "plt.title('Linear Model (OLS) Predicted v. Actual')\n",
    "plt.xlabel('actual value')\n",
    "plt.ylabel('predicted value')\n",
    "plt.show()"
   ]
  },
  {
   "cell_type": "markdown",
   "metadata": {},
   "source": [
    "## 5.2 Feature Selection ##"
   ]
  },
  {
   "cell_type": "markdown",
   "metadata": {},
   "source": [
    "##### Conduct feature selection using techniques specific to these models. For instance, you might use coefficient cutoffs or variable importance plots. If you used a model that does automatic feature selection, detail those results as well. #####"
   ]
  },
  {
   "cell_type": "code",
   "execution_count": null,
   "metadata": {},
   "outputs": [],
   "source": [
    "## not sure how to do this... LASSO didn't perform well, but does automatic feature selection\n",
    "##consider dropping Obesity and Physical inactivity because of high co-linearity? \n",
    "#wonder about this because technically that's what LASSO does and it did not perform well..."
   ]
  },
  {
   "cell_type": "markdown",
   "metadata": {},
   "source": [
    "## 5.3 Test Set ##"
   ]
  },
  {
   "cell_type": "markdown",
   "metadata": {},
   "source": [
    "##### Choose your best performing model, select out unimportant features, retrain the model, and then predict on the test set. Evaluate your performance on this test set. What is the advantage of using both validation and test sets in the social sciences and public policy? #####"
   ]
  },
  {
   "cell_type": "code",
   "execution_count": null,
   "metadata": {},
   "outputs": [],
   "source": [
    "#see #6 in Regression solutions\n",
    "\n",
    "## I think it's the linear model..."
   ]
  },
  {
   "cell_type": "markdown",
   "metadata": {},
   "source": [
    "## 5.4 Implement a Cross-Validation Approach ##"
   ]
  },
  {
   "cell_type": "markdown",
   "metadata": {},
   "source": [
    "##### Do the following:\n",
    "##### • Using your preferred model, use a k-fold cross-validation approach to refit the model.\n",
    "##### • Describe the tradeoffs involved with the choice of k.\n",
    "##### • Evaluate the results. How did cross-validation do compared to the train/validation/test split?"
   ]
  },
  {
   "cell_type": "code",
   "execution_count": null,
   "metadata": {},
   "outputs": [],
   "source": []
  },
  {
   "cell_type": "markdown",
   "metadata": {},
   "source": [
    "## 6) Discussion Questions ##"
   ]
  },
  {
   "cell_type": "markdown",
   "metadata": {},
   "source": [
    "## 6.1 What is bias-variance tradeoff. Why is it relevant to machine learning problems like this one? ##"
   ]
  },
  {
   "cell_type": "markdown",
   "metadata": {},
   "source": [
    "The bias-variance tradeoff is the balance of two sources of error within machine learning.  Essentially when doing model fitting, you are concerned with underfitting (introducing more bias to the model) or overfitting (introducing more variance to the model).  In addressing bias, you increase variance, and vice versa. The goal is to find a balance between how much bias and variance to accept in order to allow for better performance of your data.  Data splitting allows you to do this by splitting the actual data into multiple sets and training the data to the most optimal model for out-of-sample prediction, like predicting which counties wil have highest rates of diagnosed diabetes in order to plan more effective interventions."
   ]
  },
  {
   "cell_type": "markdown",
   "metadata": {},
   "source": [
    "## 6.2 Define overfitting, and why it matters for machine learning. How can we address it? ##"
   ]
  },
  {
   "cell_type": "markdown",
   "metadata": {},
   "source": [
    "Overfitting is when a model picks up noise and essentially registers it as important pattern of the data.  It sees the outliers, or noisy part of the data as part of the actual pattern of the data and includes that in predicting the model estimates.  Machine learning is particularly prone to overfitting, which is why we split, train, validate, and cross validate before testing the data.  In training our data, using the validation set to see how well our models perform, we can make tweaks and changes based on model performance, before finalizing which model is best.    "
   ]
  },
  {
   "cell_type": "markdown",
   "metadata": {},
   "source": [
    "## 6.3 Discuss your Analysis in 2-3 Paragraphs ##"
   ]
  },
  {
   "cell_type": "code",
   "execution_count": null,
   "metadata": {},
   "outputs": [],
   "source": []
  }
 ],
 "metadata": {
  "kernelspec": {
   "display_name": "Python 3",
   "language": "python",
   "name": "python3"
  },
  "language_info": {
   "codemirror_mode": {
    "name": "ipython",
    "version": 3
   },
   "file_extension": ".py",
   "mimetype": "text/x-python",
   "name": "python",
   "nbconvert_exporter": "python",
   "pygments_lexer": "ipython3",
   "version": "3.8.3"
  }
 },
 "nbformat": 4,
 "nbformat_minor": 4
}
